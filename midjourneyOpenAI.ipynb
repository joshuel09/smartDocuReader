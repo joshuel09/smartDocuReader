{
 "cells": [
  {
   "cell_type": "code",
   "execution_count": 50,
   "metadata": {},
   "outputs": [
    {
     "ename": "ModuleNotFoundError",
     "evalue": "No module named 'colorama'",
     "output_type": "error",
     "traceback": [
      "\u001b[0;31m---------------------------------------------------------------------------\u001b[0m",
      "\u001b[0;31mModuleNotFoundError\u001b[0m                       Traceback (most recent call last)",
      "Cell \u001b[0;32mIn[50], line 6\u001b[0m\n\u001b[1;32m      4\u001b[0m \u001b[39mimport\u001b[39;00m \u001b[39mopenai\u001b[39;00m \u001b[39m# Importamos la libreria de open ai, la cual nos permite usar la api de open ai\u001b[39;00m\n\u001b[1;32m      5\u001b[0m \u001b[39mimport\u001b[39;00m \u001b[39mrequests\u001b[39;00m \u001b[39m# Importamos la libreria requests, para poder descargar la imagen generada\u001b[39;00m\n\u001b[0;32m----> 6\u001b[0m \u001b[39mfrom\u001b[39;00m \u001b[39mcolorama\u001b[39;00m \u001b[39mimport\u001b[39;00m Fore \u001b[39m# Y por ultimo importamos Fore desde la libreria de Colorama, para darle un poco de color a la consola\u001b[39;00m\n\u001b[1;32m      8\u001b[0m os\u001b[39m.\u001b[39msystem(\u001b[39m\"\u001b[39m\u001b[39mcls\u001b[39m\u001b[39m\"\u001b[39m) \u001b[39m# Limpiamos la consola\u001b[39;00m\n\u001b[1;32m     10\u001b[0m \u001b[39m# Y aquí  definimos las variables de los colores para tenerlos mas ordenados\u001b[39;00m\n",
      "\u001b[0;31mModuleNotFoundError\u001b[0m: No module named 'colorama'"
     ]
    }
   ],
   "source": [
    "import os # Importamos la libreria OS, para poder usar comandos de consola\n",
    "import random # Importamos la libreria random, para poder generar un nombre de archivo aleatorio\n",
    "import string # Importamos la libreria string, para poder asignar unos parametros a la variable del nombre de archivo\n",
    "import openai # Importamos la libreria de open ai, la cual nos permite usar la api de open ai\n",
    "import requests # Importamos la libreria requests, para poder descargar la imagen generada\n",
    "from colorama import Fore # Y por ultimo importamos Fore desde la libreria de Colorama, para darle un poco de color a la consola\n",
    "\n",
    "os.system(\"cls\") # Limpiamos la consola\n",
    "\n",
    "# Y aquí  definimos las variables de los colores para tenerlos mas ordenados\n",
    "w = Fore.LIGHTWHITE_EX\n",
    "r = Fore.LIGHTRED_EX\n",
    "g = Fore.LIGHTGREEN_EX\n",
    "b = Fore.LIGHTBLUE_EX\n",
    "y = Fore.LIGHTYELLOW_EX\n",
    "m = Fore.LIGHTMAGENTA_EX\n",
    "c = Fore.LIGHTCYAN_EX\n",
    "black = Fore.LIGHTBLACK_EX\n",
    "\n",
    "\n",
    "\n",
    "openai.organization = \"ORGANIZACION_ID_AQUI\" # Aquí debes poner el ID de tu organizacion que puedes encontrar en -> https://beta.openai.com/account/org-settings\n",
    "openai.api_key = \"OPENAI-APIKEY-AQUI\" # Aquí debes poner tu API KEY que puedes encontrar en -> https://beta.openai.com/account/api-keys\n",
    "openai.Model.list() \n",
    "\n",
    "os.system(\"title franafp - Image Generator - OPEN AI\") # Aquí le damos un titulo a la consola\n",
    "\n",
    "print(f\"{m}[{w}1{m}] {black}Generador de imágenes\") \n",
    "\n",
    "\n",
    "def image_gen(): # Aquí definimos la funcion de la generacion de imagenes\n",
    "    image=input(f\"{m}[{w}>>>{m}] {black}Deja tus argumentos aquí?:{w} \") # Aquí pedimos los argumentos para la imagen\n",
    "    print(f\"{m}[{w}>{m}] {black}Generando imagen{m}...\")\n",
    "    r = openai.Image.create(prompt=image, n=2, size=\"1024x1024\") # Aquí le decimos a la api que genere la imagen con los argumentos que le dimos\n",
    "    image_url = r[\"data\"][0][\"url\"] # Aquí le decimos que guarde la url de la imagen generada\n",
    "    os.system(\"cls\")\n",
    "    print(f\"{m}[{w}!{m}] {black}Imagen generada: {y}{image_url}\")\n",
    "    print(f\"{image_url}\")\n",
    "    save=input(f\"{m}[{w}>>>{m}] {black}Quieres guardar la imagen? [y/n]:{w} \") # Aquí le preguntamos si quiere guardar la imagen\n",
    "    if save == \"y\": # Si la respuesta es \"y\" entonces...\n",
    "        path=\"./img/\" # Aquí le decimos que guarde la imagen en la carpeta \"img\"\n",
    "        nombre_random= \"\".join(random.choice(string.ascii_letters + string.digits)  for i in range(10)) # Aquí le decimos que genere un nombre aleatorio para la imagen\n",
    "        nombre_archivo = f\"{path}{nombre_random}.png\" # Aquí le decimos que guarde la imagen con el nombre aleatorio y la extension .png\n",
    "        imagen_save= requests.get(image_url).content # Aquí le decimos que descargue la imagen\"\n",
    "        with open(nombre_archivo, 'wb') as i:\n",
    "            i.write(imagen_save)\n",
    "            print(f\"{m}[{w}!{m}] {black}Imagen guardada en: {y}{nombre_archivo}\")\n",
    "    openask=input(\"¿Quieres abrir la imagen? [y/n]: \") # Aquí le preguntamos si quiere abrir la imagen en el explorador\n",
    "    if openask == \"y\": # Si la respuesta es \"y\" entonces...\n",
    "        os.system(f\"\"\"explorer {image_url}\"\"\") # Aquí le decimos que abra la imagen en el explorador\n",
    "    else: # Y si la respuesta es cualquier otra, entonces simplemente le decimos que salga del programa pulsando cualquier tecla\n",
    "        print(\"OK\")\n",
    "        print(\"Pulsa cualquier tecla para salir\")\n",
    "        os.system(\"pause >nul\")\n",
    "        os.system(\"exit\")\n",
    "\n",
    "image_gen()\n",
    "\n",
    "# https://github.com/franafp"
   ]
  }
 ],
 "metadata": {
  "kernelspec": {
   "display_name": "myenv",
   "language": "python",
   "name": "python3"
  },
  "language_info": {
   "codemirror_mode": {
    "name": "ipython",
    "version": 3
   },
   "file_extension": ".py",
   "mimetype": "text/x-python",
   "name": "python",
   "nbconvert_exporter": "python",
   "pygments_lexer": "ipython3",
   "version": "3.11.4"
  },
  "orig_nbformat": 4
 },
 "nbformat": 4,
 "nbformat_minor": 2
}
