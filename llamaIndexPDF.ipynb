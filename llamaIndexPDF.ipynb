{
 "cells": [
  {
   "cell_type": "code",
   "execution_count": null,
   "metadata": {},
   "outputs": [],
   "source": [
    "# My OpenAI Key\n",
    "import os\n",
    "os.environ['OPENAI_API_KEY'] = \"insert-api-key-here\""
   ]
  },
  {
   "cell_type": "code",
   "execution_count": null,
   "id": "d933b922",
   "metadata": {},
   "outputs": [],
   "source": [
    "from llama_index import GPTVectorStoreIndex, SimpleDirectoryReader, LLMPredictor\n",
    "from llama_index import download_loader, StorageContext, load_index_from_storage\n",
    "from IPython.display import display, Markdown, Latex\n",
    "from langchain import OpenAI\n",
    "\n",
    "CJKPDFReader = download_loader(\"CJKPDFReader\")\n",
    "loader = CJKPDFReader()"
   ]
  },
  {
   "cell_type": "code",
   "execution_count": null,
   "id": "60250d6c",
   "metadata": {},
   "outputs": [],
   "source": [
    "documents = loader.load_data(\"ラノーラ_ジョシュエル_職務経歴書.pdf\")\n",
    "index = GPTVectorStoreIndex.from_documents(documents)\n",
    "index.storage_context.persist(persist_dir=\"index\")"
   ]
  },
  {
   "cell_type": "code",
   "execution_count": null,
   "id": "0323a478",
   "metadata": {},
   "outputs": [],
   "source": [
    "query_text = \"insert question here\"\n",
    "\n",
    "query_format = \"そして結果を印刷する際にはマークダウン形式を使用してください。\"\n",
    "\n",
    "llm_predictor = LLMPredictor(llm=OpenAI(temperature = 0 , max_tokens= 350 )) \n",
    "# rebuild storage context\n",
    "storage_context = StorageContext.from_defaults(persist_dir=\"index\")\n",
    "\n",
    "# load index\n",
    "index = load_index_from_storage(storage_context)\n",
    "query_engine = index.as_query_engine(llm_predictor=llm_predictor)\n",
    "response = query_engine.query(query_text + query_format)\n",
    "\n",
    "display(Markdown(f\"**Q:** {query_text}\"))\n",
    "display(Markdown(f\"**A:** {response}\"))"
   ]
  }
 ],
 "metadata": {
  "kernelspec": {
   "display_name": "myenv",
   "language": "python",
   "name": "python3"
  },
  "language_info": {
   "codemirror_mode": {
    "name": "ipython",
    "version": 3
   },
   "file_extension": ".py",
   "mimetype": "text/x-python",
   "name": "python",
   "nbconvert_exporter": "python",
   "pygments_lexer": "ipython3",
   "version": "3.11.4"
  }
 },
 "nbformat": 4,
 "nbformat_minor": 5
}
